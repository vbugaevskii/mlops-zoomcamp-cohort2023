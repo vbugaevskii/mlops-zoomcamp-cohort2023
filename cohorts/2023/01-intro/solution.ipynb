{
 "cells": [
  {
   "cell_type": "code",
   "execution_count": 1,
   "id": "0160d1a5-a045-42a5-84ac-ffc6082acab9",
   "metadata": {},
   "outputs": [
    {
     "name": "stdout",
     "output_type": "stream",
     "text": [
      "--2023-05-20 22:12:17--  https://d37ci6vzurychx.cloudfront.net/trip-data/yellow_tripdata_2022-01.parquet\n",
      "Распознаётся d37ci6vzurychx.cloudfront.net (d37ci6vzurychx.cloudfront.net)… 52.85.114.54, 52.85.114.180, 52.85.114.39, ...\n",
      "Подключение к d37ci6vzurychx.cloudfront.net (d37ci6vzurychx.cloudfront.net)|52.85.114.54|:443... соединение установлено.\n",
      "HTTP-запрос отправлен. Ожидание ответа… 200 OK\n",
      "Длина: 38139949 (36M) [application/x-www-form-urlencoded]\n",
      "Сохранение в: «data/yellow_tripdata_2022-01.parquet»\n",
      "\n",
      "data/yellow_tripdat 100%[===================>]  36,37M  9,89MB/s    за 3,7s    \n",
      "\n",
      "2023-05-20 22:12:21 (9,91 MB/s) - «data/yellow_tripdata_2022-01.parquet» сохранён [38139949/38139949]\n",
      "\n",
      "--2023-05-20 22:12:21--  https://d37ci6vzurychx.cloudfront.net/trip-data/yellow_tripdata_2022-02.parquet\n",
      "Распознаётся d37ci6vzurychx.cloudfront.net (d37ci6vzurychx.cloudfront.net)… 52.85.114.180, 52.85.114.39, 52.85.114.114, ...\n",
      "Подключение к d37ci6vzurychx.cloudfront.net (d37ci6vzurychx.cloudfront.net)|52.85.114.180|:443... соединение установлено.\n",
      "HTTP-запрос отправлен. Ожидание ответа… 200 OK\n",
      "Длина: 45616512 (44M) [application/x-www-form-urlencoded]\n",
      "Сохранение в: «data/yellow_tripdata_2022-02.parquet»\n",
      "\n",
      "data/yellow_tripdat 100%[===================>]  43,50M  10,6MB/s    за 4,1s    \n",
      "\n",
      "2023-05-20 22:12:25 (10,5 MB/s) - «data/yellow_tripdata_2022-02.parquet» сохранён [45616512/45616512]\n",
      "\n"
     ]
    }
   ],
   "source": [
    "!rm -r data\n",
    "!mkdir data\n",
    "!wget https://d37ci6vzurychx.cloudfront.net/trip-data/yellow_tripdata_2022-01.parquet \\\n",
    "    -O data/yellow_tripdata_2022-01.parquet\n",
    "!wget https://d37ci6vzurychx.cloudfront.net/trip-data/yellow_tripdata_2022-02.parquet \\\n",
    "    -O data/yellow_tripdata_2022-02.parquet"
   ]
  },
  {
   "cell_type": "markdown",
   "id": "f3ebde2a-ea23-465f-8079-09fe9e369de4",
   "metadata": {},
   "source": [
    "## Question 1"
   ]
  },
  {
   "cell_type": "code",
   "execution_count": 2,
   "id": "75cd17ee-4514-4392-ad2e-fc03f3df7507",
   "metadata": {},
   "outputs": [],
   "source": [
    "import pandas as pd\n",
    "import numpy as np"
   ]
  },
  {
   "cell_type": "code",
   "execution_count": 3,
   "id": "c2acfeb4-e7b5-4878-806c-33ce098ebd2e",
   "metadata": {},
   "outputs": [
    {
     "data": {
      "text/plain": [
       "((2463931, 19), (2979431, 19))"
      ]
     },
     "execution_count": 3,
     "metadata": {},
     "output_type": "execute_result"
    }
   ],
   "source": [
    "df_train = pd.read_parquet('data/yellow_tripdata_2022-01.parquet')\n",
    "df_valid = pd.read_parquet('data/yellow_tripdata_2022-02.parquet')\n",
    "\n",
    "df_train.shape, df_valid.shape"
   ]
  },
  {
   "cell_type": "code",
   "execution_count": 4,
   "id": "a058238d-6976-4fed-9453-3eda87e4d6e3",
   "metadata": {},
   "outputs": [
    {
     "data": {
      "text/plain": [
       "Index(['VendorID', 'tpep_pickup_datetime', 'tpep_dropoff_datetime',\n",
       "       'passenger_count', 'trip_distance', 'RatecodeID', 'store_and_fwd_flag',\n",
       "       'PULocationID', 'DOLocationID', 'payment_type', 'fare_amount', 'extra',\n",
       "       'mta_tax', 'tip_amount', 'tolls_amount', 'improvement_surcharge',\n",
       "       'total_amount', 'congestion_surcharge', 'airport_fee'],\n",
       "      dtype='object')"
      ]
     },
     "execution_count": 4,
     "metadata": {},
     "output_type": "execute_result"
    }
   ],
   "source": [
    "df_train.columns"
   ]
  },
  {
   "cell_type": "markdown",
   "id": "6d4eedf1-3a8b-44d4-8c76-ce5417df1aa1",
   "metadata": {},
   "source": [
    "## Question 2"
   ]
  },
  {
   "cell_type": "code",
   "execution_count": 5,
   "id": "1ade0e18-89a2-4f3b-a720-f6abcd2badcb",
   "metadata": {},
   "outputs": [],
   "source": [
    "def calc_duration(df):\n",
    "    return (df['tpep_dropoff_datetime'] - df['tpep_pickup_datetime']).dt.seconds / 60\n",
    "\n",
    "df_train['duration'] = calc_duration(df_train)\n",
    "df_valid['duration'] = calc_duration(df_valid)"
   ]
  },
  {
   "cell_type": "code",
   "execution_count": 6,
   "id": "6ac37f38-7f3e-4fc5-bf31-df3eab25cd4a",
   "metadata": {},
   "outputs": [
    {
     "data": {
      "text/plain": [
       "56.185706892623244"
      ]
     },
     "execution_count": 6,
     "metadata": {},
     "output_type": "execute_result"
    }
   ],
   "source": [
    "df_train['duration'].std()"
   ]
  },
  {
   "cell_type": "markdown",
   "id": "a7081acd-d769-48f0-a134-959cd4c40690",
   "metadata": {},
   "source": [
    "## Question 3"
   ]
  },
  {
   "cell_type": "code",
   "execution_count": 7,
   "id": "33e60333-1125-4575-9db9-3d5cddfe75db",
   "metadata": {},
   "outputs": [
    {
     "name": "stdout",
     "output_type": "stream",
     "text": [
      "0.9827551989077616\n",
      "0.9794450685382544\n"
     ]
    }
   ],
   "source": [
    "def drop_outliers(df):\n",
    "    cnt_before = df.shape[0]\n",
    "    df = df[(df['duration'] >= 1) & (df['duration'] <= 60)]\n",
    "    cnt_after = df.shape[0]\n",
    "    print(cnt_after / cnt_before)\n",
    "    return df\n",
    "\n",
    "df_train = drop_outliers(df_train)\n",
    "df_valid = drop_outliers(df_valid)"
   ]
  },
  {
   "cell_type": "markdown",
   "id": "4e705a22-796f-4f46-96fb-6f94d23c10ac",
   "metadata": {},
   "source": [
    "## Question 4"
   ]
  },
  {
   "cell_type": "code",
   "execution_count": 8,
   "id": "c01adc5f-3a3a-40a8-8e2c-f1f90ae49270",
   "metadata": {},
   "outputs": [],
   "source": [
    "from sklearn.feature_extraction import DictVectorizer\n",
    "from sklearn.preprocessing import OneHotEncoder\n",
    "\n",
    "from tqdm.auto import tqdm"
   ]
  },
  {
   "cell_type": "code",
   "execution_count": 9,
   "id": "f9807089-b130-4386-8013-fa851107ad37",
   "metadata": {},
   "outputs": [],
   "source": [
    "cat_features = ['PULocationID', 'DOLocationID']"
   ]
  },
  {
   "cell_type": "code",
   "execution_count": 10,
   "id": "6a4d4e7e-a52f-4a04-83ce-018c7ef3bf64",
   "metadata": {},
   "outputs": [],
   "source": [
    "for col in cat_features:\n",
    "    df_train[col] = df_train[col].astype('category')\n",
    "    df_valid[col] = df_valid[col].astype(df_train[col].dtype)"
   ]
  },
  {
   "cell_type": "markdown",
   "id": "8319a121-c996-42dc-b736-a8ef62500c6c",
   "metadata": {},
   "source": [
    "### Dense Solution"
   ]
  },
  {
   "cell_type": "code",
   "execution_count": 11,
   "id": "d5833a71-886e-443e-9351-d01a60204b60",
   "metadata": {},
   "outputs": [],
   "source": [
    "def ohe_cat_features(df):\n",
    "    return pd.get_dummies(df, columns=cat_features)"
   ]
  },
  {
   "cell_type": "code",
   "execution_count": 12,
   "id": "f23fe418-b6e7-4e4d-b8cc-369f4b4b9cb8",
   "metadata": {},
   "outputs": [
    {
     "name": "stdout",
     "output_type": "stream",
     "text": [
      "CPU times: user 5.54 s, sys: 817 ms, total: 6.36 s\n",
      "Wall time: 6.44 s\n"
     ]
    },
    {
     "data": {
      "text/plain": [
       "(2421441, 516)"
      ]
     },
     "execution_count": 12,
     "metadata": {},
     "output_type": "execute_result"
    }
   ],
   "source": [
    "%%time\n",
    "\n",
    "r1 = ohe_cat_features(df_train[cat_features + ['duration']])\n",
    "r1.shape"
   ]
  },
  {
   "cell_type": "code",
   "execution_count": 13,
   "id": "def16691-e887-4286-bd37-bc1143d58618",
   "metadata": {},
   "outputs": [
    {
     "data": {
      "text/html": [
       "<div>\n",
       "<style scoped>\n",
       "    .dataframe tbody tr th:only-of-type {\n",
       "        vertical-align: middle;\n",
       "    }\n",
       "\n",
       "    .dataframe tbody tr th {\n",
       "        vertical-align: top;\n",
       "    }\n",
       "\n",
       "    .dataframe thead th {\n",
       "        text-align: right;\n",
       "    }\n",
       "</style>\n",
       "<table border=\"1\" class=\"dataframe\">\n",
       "  <thead>\n",
       "    <tr style=\"text-align: right;\">\n",
       "      <th></th>\n",
       "      <th>duration</th>\n",
       "      <th>PULocationID_1</th>\n",
       "      <th>PULocationID_2</th>\n",
       "      <th>PULocationID_3</th>\n",
       "      <th>PULocationID_4</th>\n",
       "      <th>PULocationID_5</th>\n",
       "      <th>PULocationID_6</th>\n",
       "      <th>PULocationID_7</th>\n",
       "      <th>PULocationID_8</th>\n",
       "      <th>PULocationID_9</th>\n",
       "      <th>...</th>\n",
       "      <th>DOLocationID_256</th>\n",
       "      <th>DOLocationID_257</th>\n",
       "      <th>DOLocationID_258</th>\n",
       "      <th>DOLocationID_259</th>\n",
       "      <th>DOLocationID_260</th>\n",
       "      <th>DOLocationID_261</th>\n",
       "      <th>DOLocationID_262</th>\n",
       "      <th>DOLocationID_263</th>\n",
       "      <th>DOLocationID_264</th>\n",
       "      <th>DOLocationID_265</th>\n",
       "    </tr>\n",
       "  </thead>\n",
       "  <tbody>\n",
       "    <tr>\n",
       "      <th>0</th>\n",
       "      <td>17.816667</td>\n",
       "      <td>0</td>\n",
       "      <td>0</td>\n",
       "      <td>0</td>\n",
       "      <td>0</td>\n",
       "      <td>0</td>\n",
       "      <td>0</td>\n",
       "      <td>0</td>\n",
       "      <td>0</td>\n",
       "      <td>0</td>\n",
       "      <td>...</td>\n",
       "      <td>0</td>\n",
       "      <td>0</td>\n",
       "      <td>0</td>\n",
       "      <td>0</td>\n",
       "      <td>0</td>\n",
       "      <td>0</td>\n",
       "      <td>0</td>\n",
       "      <td>0</td>\n",
       "      <td>0</td>\n",
       "      <td>0</td>\n",
       "    </tr>\n",
       "    <tr>\n",
       "      <th>1</th>\n",
       "      <td>8.400000</td>\n",
       "      <td>0</td>\n",
       "      <td>0</td>\n",
       "      <td>0</td>\n",
       "      <td>0</td>\n",
       "      <td>0</td>\n",
       "      <td>0</td>\n",
       "      <td>0</td>\n",
       "      <td>0</td>\n",
       "      <td>0</td>\n",
       "      <td>...</td>\n",
       "      <td>0</td>\n",
       "      <td>0</td>\n",
       "      <td>0</td>\n",
       "      <td>0</td>\n",
       "      <td>0</td>\n",
       "      <td>0</td>\n",
       "      <td>0</td>\n",
       "      <td>0</td>\n",
       "      <td>0</td>\n",
       "      <td>0</td>\n",
       "    </tr>\n",
       "    <tr>\n",
       "      <th>2</th>\n",
       "      <td>8.966667</td>\n",
       "      <td>0</td>\n",
       "      <td>0</td>\n",
       "      <td>0</td>\n",
       "      <td>0</td>\n",
       "      <td>0</td>\n",
       "      <td>0</td>\n",
       "      <td>0</td>\n",
       "      <td>0</td>\n",
       "      <td>0</td>\n",
       "      <td>...</td>\n",
       "      <td>0</td>\n",
       "      <td>0</td>\n",
       "      <td>0</td>\n",
       "      <td>0</td>\n",
       "      <td>0</td>\n",
       "      <td>0</td>\n",
       "      <td>0</td>\n",
       "      <td>0</td>\n",
       "      <td>0</td>\n",
       "      <td>0</td>\n",
       "    </tr>\n",
       "    <tr>\n",
       "      <th>3</th>\n",
       "      <td>10.033333</td>\n",
       "      <td>0</td>\n",
       "      <td>0</td>\n",
       "      <td>0</td>\n",
       "      <td>0</td>\n",
       "      <td>0</td>\n",
       "      <td>0</td>\n",
       "      <td>0</td>\n",
       "      <td>0</td>\n",
       "      <td>0</td>\n",
       "      <td>...</td>\n",
       "      <td>0</td>\n",
       "      <td>0</td>\n",
       "      <td>0</td>\n",
       "      <td>0</td>\n",
       "      <td>0</td>\n",
       "      <td>0</td>\n",
       "      <td>0</td>\n",
       "      <td>0</td>\n",
       "      <td>0</td>\n",
       "      <td>0</td>\n",
       "    </tr>\n",
       "    <tr>\n",
       "      <th>4</th>\n",
       "      <td>37.533333</td>\n",
       "      <td>0</td>\n",
       "      <td>0</td>\n",
       "      <td>0</td>\n",
       "      <td>0</td>\n",
       "      <td>0</td>\n",
       "      <td>0</td>\n",
       "      <td>0</td>\n",
       "      <td>0</td>\n",
       "      <td>0</td>\n",
       "      <td>...</td>\n",
       "      <td>0</td>\n",
       "      <td>0</td>\n",
       "      <td>0</td>\n",
       "      <td>0</td>\n",
       "      <td>0</td>\n",
       "      <td>0</td>\n",
       "      <td>0</td>\n",
       "      <td>0</td>\n",
       "      <td>0</td>\n",
       "      <td>0</td>\n",
       "    </tr>\n",
       "  </tbody>\n",
       "</table>\n",
       "<p>5 rows × 516 columns</p>\n",
       "</div>"
      ],
      "text/plain": [
       "    duration  PULocationID_1  PULocationID_2  PULocationID_3  PULocationID_4  \\\n",
       "0  17.816667               0               0               0               0   \n",
       "1   8.400000               0               0               0               0   \n",
       "2   8.966667               0               0               0               0   \n",
       "3  10.033333               0               0               0               0   \n",
       "4  37.533333               0               0               0               0   \n",
       "\n",
       "   PULocationID_5  PULocationID_6  PULocationID_7  PULocationID_8  \\\n",
       "0               0               0               0               0   \n",
       "1               0               0               0               0   \n",
       "2               0               0               0               0   \n",
       "3               0               0               0               0   \n",
       "4               0               0               0               0   \n",
       "\n",
       "   PULocationID_9  ...  DOLocationID_256  DOLocationID_257  DOLocationID_258  \\\n",
       "0               0  ...                 0                 0                 0   \n",
       "1               0  ...                 0                 0                 0   \n",
       "2               0  ...                 0                 0                 0   \n",
       "3               0  ...                 0                 0                 0   \n",
       "4               0  ...                 0                 0                 0   \n",
       "\n",
       "   DOLocationID_259  DOLocationID_260  DOLocationID_261  DOLocationID_262  \\\n",
       "0                 0                 0                 0                 0   \n",
       "1                 0                 0                 0                 0   \n",
       "2                 0                 0                 0                 0   \n",
       "3                 0                 0                 0                 0   \n",
       "4                 0                 0                 0                 0   \n",
       "\n",
       "   DOLocationID_263  DOLocationID_264  DOLocationID_265  \n",
       "0                 0                 0                 0  \n",
       "1                 0                 0                 0  \n",
       "2                 0                 0                 0  \n",
       "3                 0                 0                 0  \n",
       "4                 0                 0                 0  \n",
       "\n",
       "[5 rows x 516 columns]"
      ]
     },
     "execution_count": 13,
     "metadata": {},
     "output_type": "execute_result"
    }
   ],
   "source": [
    "r1.head()"
   ]
  },
  {
   "cell_type": "code",
   "execution_count": 14,
   "id": "69fdbcf0-6678-45e5-84f9-accf28210a56",
   "metadata": {},
   "outputs": [],
   "source": [
    "def ohe_cat_features(df, vec=None):\n",
    "    if vec is None:\n",
    "        vec = OneHotEncoder(sparse=False, dtype='int8')\n",
    "        vec = vec.fit(df[cat_features])\n",
    "        \n",
    "    df_ohe = pd.DataFrame(\n",
    "        vec.transform(df[cat_features]),\n",
    "        columns=[\n",
    "            f'{fname}_{v}'\n",
    "            for fname, fvals in zip(cat_features, vec.categories_)\n",
    "            for v in fvals\n",
    "        ],\n",
    "        index=df.index,\n",
    "    )\n",
    "\n",
    "    df.drop(columns=cat_features, inplace=True)\n",
    "    df = pd.concat([df, df_ohe], ignore_index=False, copy=False, axis=1)\n",
    "\n",
    "    return df, vec"
   ]
  },
  {
   "cell_type": "code",
   "execution_count": 15,
   "id": "30c07be9-a2b9-4748-8254-874bd23dd289",
   "metadata": {
    "tags": []
   },
   "outputs": [
    {
     "name": "stdout",
     "output_type": "stream",
     "text": [
      "CPU times: user 924 ms, sys: 364 ms, total: 1.29 s\n",
      "Wall time: 1.32 s\n"
     ]
    },
    {
     "name": "stderr",
     "output_type": "stream",
     "text": [
      "/var/folders/kb/40bs5mxn3yz55kv3_1ppflwr0000gn/T/ipykernel_27946/3607675724.py:16: SettingWithCopyWarning: \n",
      "A value is trying to be set on a copy of a slice from a DataFrame\n",
      "\n",
      "See the caveats in the documentation: https://pandas.pydata.org/pandas-docs/stable/user_guide/indexing.html#returning-a-view-versus-a-copy\n",
      "  df.drop(columns=cat_features, inplace=True)\n"
     ]
    },
    {
     "data": {
      "text/plain": [
       "(2421441, 516)"
      ]
     },
     "execution_count": 15,
     "metadata": {},
     "output_type": "execute_result"
    }
   ],
   "source": [
    "%%time\n",
    "\n",
    "r2, _ = ohe_cat_features(df_train[cat_features + ['duration']])\n",
    "r2.shape"
   ]
  },
  {
   "cell_type": "code",
   "execution_count": 16,
   "id": "36140d19-5457-4528-ad57-6ab8d435571e",
   "metadata": {},
   "outputs": [
    {
     "data": {
      "text/html": [
       "<div>\n",
       "<style scoped>\n",
       "    .dataframe tbody tr th:only-of-type {\n",
       "        vertical-align: middle;\n",
       "    }\n",
       "\n",
       "    .dataframe tbody tr th {\n",
       "        vertical-align: top;\n",
       "    }\n",
       "\n",
       "    .dataframe thead th {\n",
       "        text-align: right;\n",
       "    }\n",
       "</style>\n",
       "<table border=\"1\" class=\"dataframe\">\n",
       "  <thead>\n",
       "    <tr style=\"text-align: right;\">\n",
       "      <th></th>\n",
       "      <th>duration</th>\n",
       "      <th>PULocationID_1</th>\n",
       "      <th>PULocationID_2</th>\n",
       "      <th>PULocationID_3</th>\n",
       "      <th>PULocationID_4</th>\n",
       "      <th>PULocationID_5</th>\n",
       "      <th>PULocationID_6</th>\n",
       "      <th>PULocationID_7</th>\n",
       "      <th>PULocationID_8</th>\n",
       "      <th>PULocationID_9</th>\n",
       "      <th>...</th>\n",
       "      <th>DOLocationID_256</th>\n",
       "      <th>DOLocationID_257</th>\n",
       "      <th>DOLocationID_258</th>\n",
       "      <th>DOLocationID_259</th>\n",
       "      <th>DOLocationID_260</th>\n",
       "      <th>DOLocationID_261</th>\n",
       "      <th>DOLocationID_262</th>\n",
       "      <th>DOLocationID_263</th>\n",
       "      <th>DOLocationID_264</th>\n",
       "      <th>DOLocationID_265</th>\n",
       "    </tr>\n",
       "  </thead>\n",
       "  <tbody>\n",
       "    <tr>\n",
       "      <th>0</th>\n",
       "      <td>17.816667</td>\n",
       "      <td>0</td>\n",
       "      <td>0</td>\n",
       "      <td>0</td>\n",
       "      <td>0</td>\n",
       "      <td>0</td>\n",
       "      <td>0</td>\n",
       "      <td>0</td>\n",
       "      <td>0</td>\n",
       "      <td>0</td>\n",
       "      <td>...</td>\n",
       "      <td>0</td>\n",
       "      <td>0</td>\n",
       "      <td>0</td>\n",
       "      <td>0</td>\n",
       "      <td>0</td>\n",
       "      <td>0</td>\n",
       "      <td>0</td>\n",
       "      <td>0</td>\n",
       "      <td>0</td>\n",
       "      <td>0</td>\n",
       "    </tr>\n",
       "    <tr>\n",
       "      <th>1</th>\n",
       "      <td>8.400000</td>\n",
       "      <td>0</td>\n",
       "      <td>0</td>\n",
       "      <td>0</td>\n",
       "      <td>0</td>\n",
       "      <td>0</td>\n",
       "      <td>0</td>\n",
       "      <td>0</td>\n",
       "      <td>0</td>\n",
       "      <td>0</td>\n",
       "      <td>...</td>\n",
       "      <td>0</td>\n",
       "      <td>0</td>\n",
       "      <td>0</td>\n",
       "      <td>0</td>\n",
       "      <td>0</td>\n",
       "      <td>0</td>\n",
       "      <td>0</td>\n",
       "      <td>0</td>\n",
       "      <td>0</td>\n",
       "      <td>0</td>\n",
       "    </tr>\n",
       "    <tr>\n",
       "      <th>2</th>\n",
       "      <td>8.966667</td>\n",
       "      <td>0</td>\n",
       "      <td>0</td>\n",
       "      <td>0</td>\n",
       "      <td>0</td>\n",
       "      <td>0</td>\n",
       "      <td>0</td>\n",
       "      <td>0</td>\n",
       "      <td>0</td>\n",
       "      <td>0</td>\n",
       "      <td>...</td>\n",
       "      <td>0</td>\n",
       "      <td>0</td>\n",
       "      <td>0</td>\n",
       "      <td>0</td>\n",
       "      <td>0</td>\n",
       "      <td>0</td>\n",
       "      <td>0</td>\n",
       "      <td>0</td>\n",
       "      <td>0</td>\n",
       "      <td>0</td>\n",
       "    </tr>\n",
       "    <tr>\n",
       "      <th>3</th>\n",
       "      <td>10.033333</td>\n",
       "      <td>0</td>\n",
       "      <td>0</td>\n",
       "      <td>0</td>\n",
       "      <td>0</td>\n",
       "      <td>0</td>\n",
       "      <td>0</td>\n",
       "      <td>0</td>\n",
       "      <td>0</td>\n",
       "      <td>0</td>\n",
       "      <td>...</td>\n",
       "      <td>0</td>\n",
       "      <td>0</td>\n",
       "      <td>0</td>\n",
       "      <td>0</td>\n",
       "      <td>0</td>\n",
       "      <td>0</td>\n",
       "      <td>0</td>\n",
       "      <td>0</td>\n",
       "      <td>0</td>\n",
       "      <td>0</td>\n",
       "    </tr>\n",
       "    <tr>\n",
       "      <th>4</th>\n",
       "      <td>37.533333</td>\n",
       "      <td>0</td>\n",
       "      <td>0</td>\n",
       "      <td>0</td>\n",
       "      <td>0</td>\n",
       "      <td>0</td>\n",
       "      <td>0</td>\n",
       "      <td>0</td>\n",
       "      <td>0</td>\n",
       "      <td>0</td>\n",
       "      <td>...</td>\n",
       "      <td>0</td>\n",
       "      <td>0</td>\n",
       "      <td>0</td>\n",
       "      <td>0</td>\n",
       "      <td>0</td>\n",
       "      <td>0</td>\n",
       "      <td>0</td>\n",
       "      <td>0</td>\n",
       "      <td>0</td>\n",
       "      <td>0</td>\n",
       "    </tr>\n",
       "  </tbody>\n",
       "</table>\n",
       "<p>5 rows × 516 columns</p>\n",
       "</div>"
      ],
      "text/plain": [
       "    duration  PULocationID_1  PULocationID_2  PULocationID_3  PULocationID_4  \\\n",
       "0  17.816667               0               0               0               0   \n",
       "1   8.400000               0               0               0               0   \n",
       "2   8.966667               0               0               0               0   \n",
       "3  10.033333               0               0               0               0   \n",
       "4  37.533333               0               0               0               0   \n",
       "\n",
       "   PULocationID_5  PULocationID_6  PULocationID_7  PULocationID_8  \\\n",
       "0               0               0               0               0   \n",
       "1               0               0               0               0   \n",
       "2               0               0               0               0   \n",
       "3               0               0               0               0   \n",
       "4               0               0               0               0   \n",
       "\n",
       "   PULocationID_9  ...  DOLocationID_256  DOLocationID_257  DOLocationID_258  \\\n",
       "0               0  ...                 0                 0                 0   \n",
       "1               0  ...                 0                 0                 0   \n",
       "2               0  ...                 0                 0                 0   \n",
       "3               0  ...                 0                 0                 0   \n",
       "4               0  ...                 0                 0                 0   \n",
       "\n",
       "   DOLocationID_259  DOLocationID_260  DOLocationID_261  DOLocationID_262  \\\n",
       "0                 0                 0                 0                 0   \n",
       "1                 0                 0                 0                 0   \n",
       "2                 0                 0                 0                 0   \n",
       "3                 0                 0                 0                 0   \n",
       "4                 0                 0                 0                 0   \n",
       "\n",
       "   DOLocationID_263  DOLocationID_264  DOLocationID_265  \n",
       "0                 0                 0                 0  \n",
       "1                 0                 0                 0  \n",
       "2                 0                 0                 0  \n",
       "3                 0                 0                 0  \n",
       "4                 0                 0                 0  \n",
       "\n",
       "[5 rows x 516 columns]"
      ]
     },
     "execution_count": 16,
     "metadata": {},
     "output_type": "execute_result"
    }
   ],
   "source": [
    "r2.head()"
   ]
  },
  {
   "cell_type": "code",
   "execution_count": 17,
   "id": "a016b6aa-7852-41b0-8f3f-fa8472ddd756",
   "metadata": {},
   "outputs": [],
   "source": [
    "def ohe_cat_features(df, vec=None):\n",
    "    if vec is None:\n",
    "        vec = OneHotEncoder(sparse=False, dtype='int8')\n",
    "        vec = vec.fit(df[cat_features])\n",
    "        \n",
    "    df_ohe = pd.DataFrame(\n",
    "        vec.transform(df[cat_features]),\n",
    "        columns=[\n",
    "            f'{fname}_{v}'\n",
    "            for fname, fvals in zip(cat_features, vec.categories_)\n",
    "            for v in fvals\n",
    "        ],\n",
    "        index=df.index,\n",
    "    )\n",
    "\n",
    "    df.drop(columns=cat_features, inplace=True)\n",
    "    df = pd.concat([df, df_ohe], ignore_index=False, copy=False, axis=1)\n",
    "\n",
    "    return df, vec"
   ]
  },
  {
   "cell_type": "code",
   "execution_count": 18,
   "id": "6f46fffc-e4e5-457f-8781-a76e1d5ef1b1",
   "metadata": {},
   "outputs": [
    {
     "data": {
      "application/vnd.jupyter.widget-view+json": {
       "model_id": "9baed15a0a5b45de9f73defa5b535d36",
       "version_major": 2,
       "version_minor": 0
      },
      "text/plain": [
       "  0%|          | 0/516 [00:00<?, ?it/s]"
      ]
     },
     "metadata": {},
     "output_type": "display_data"
    }
   ],
   "source": [
    "assert (r1.columns.sort_values() == r2.columns.sort_values()).all()\n",
    "\n",
    "for col in tqdm(r1.columns):\n",
    "    assert np.allclose(r1[col], r2[col])"
   ]
  },
  {
   "cell_type": "code",
   "execution_count": 19,
   "id": "c39cfb74-9b8d-4754-bea3-1d8bb7aaab39",
   "metadata": {},
   "outputs": [],
   "source": [
    "def ohe_cat_features(df, vec=None):\n",
    "    for col in cat_features:\n",
    "        df[col] = df[col].map(str)\n",
    "    \n",
    "    if vec is None:\n",
    "        vec = DictVectorizer(sparse=False)\n",
    "\n",
    "        df = pd.DataFrame(\n",
    "            vec.fit_transform(df.to_dict(orient='records')),\n",
    "            columns=vec.feature_names_,\n",
    "            index=df.index,\n",
    "        )\n",
    "    else:\n",
    "        df = pd.DataFrame(\n",
    "            vec.transform(df.to_dict(orient='records')),\n",
    "            columns=vec.feature_names_,\n",
    "            index=df.index,\n",
    "        )\n",
    "    \n",
    "    # FIXME: this unappropirate\n",
    "    # ohe_columns = df.columns[df.columns.str.contains('=')]\n",
    "    # for col in tqdm(ohe_columns):\n",
    "    #     df[col] = (df[col] > 0).astype(int)\n",
    "    df.columns = df.columns.str.replace('=', '_')\n",
    "\n",
    "    return df, vec"
   ]
  },
  {
   "cell_type": "code",
   "execution_count": 20,
   "id": "fc0e3f01-f798-48d5-a26b-e9671b18a425",
   "metadata": {},
   "outputs": [
    {
     "name": "stderr",
     "output_type": "stream",
     "text": [
      "/var/folders/kb/40bs5mxn3yz55kv3_1ppflwr0000gn/T/ipykernel_27946/2417098221.py:3: SettingWithCopyWarning: \n",
      "A value is trying to be set on a copy of a slice from a DataFrame.\n",
      "Try using .loc[row_indexer,col_indexer] = value instead\n",
      "\n",
      "See the caveats in the documentation: https://pandas.pydata.org/pandas-docs/stable/user_guide/indexing.html#returning-a-view-versus-a-copy\n",
      "  df[col] = df[col].map(str)\n",
      "/var/folders/kb/40bs5mxn3yz55kv3_1ppflwr0000gn/T/ipykernel_27946/2417098221.py:3: SettingWithCopyWarning: \n",
      "A value is trying to be set on a copy of a slice from a DataFrame.\n",
      "Try using .loc[row_indexer,col_indexer] = value instead\n",
      "\n",
      "See the caveats in the documentation: https://pandas.pydata.org/pandas-docs/stable/user_guide/indexing.html#returning-a-view-versus-a-copy\n",
      "  df[col] = df[col].map(str)\n"
     ]
    },
    {
     "name": "stdout",
     "output_type": "stream",
     "text": [
      "CPU times: user 14.7 s, sys: 4.95 s, total: 19.7 s\n",
      "Wall time: 21.2 s\n"
     ]
    },
    {
     "data": {
      "text/plain": [
       "(2421441, 516)"
      ]
     },
     "execution_count": 20,
     "metadata": {},
     "output_type": "execute_result"
    }
   ],
   "source": [
    "%%time\n",
    "\n",
    "r3, vec = ohe_cat_features(df_train[cat_features + ['duration']])\n",
    "r3.shape"
   ]
  },
  {
   "cell_type": "code",
   "execution_count": 21,
   "id": "3d9f09af-66d2-46c1-af84-acff5d9ffaeb",
   "metadata": {},
   "outputs": [
    {
     "data": {
      "text/html": [
       "<div>\n",
       "<style scoped>\n",
       "    .dataframe tbody tr th:only-of-type {\n",
       "        vertical-align: middle;\n",
       "    }\n",
       "\n",
       "    .dataframe tbody tr th {\n",
       "        vertical-align: top;\n",
       "    }\n",
       "\n",
       "    .dataframe thead th {\n",
       "        text-align: right;\n",
       "    }\n",
       "</style>\n",
       "<table border=\"1\" class=\"dataframe\">\n",
       "  <thead>\n",
       "    <tr style=\"text-align: right;\">\n",
       "      <th></th>\n",
       "      <th>DOLocationID_1</th>\n",
       "      <th>DOLocationID_10</th>\n",
       "      <th>DOLocationID_100</th>\n",
       "      <th>DOLocationID_101</th>\n",
       "      <th>DOLocationID_102</th>\n",
       "      <th>DOLocationID_105</th>\n",
       "      <th>DOLocationID_106</th>\n",
       "      <th>DOLocationID_107</th>\n",
       "      <th>DOLocationID_108</th>\n",
       "      <th>DOLocationID_109</th>\n",
       "      <th>...</th>\n",
       "      <th>PULocationID_90</th>\n",
       "      <th>PULocationID_91</th>\n",
       "      <th>PULocationID_92</th>\n",
       "      <th>PULocationID_93</th>\n",
       "      <th>PULocationID_94</th>\n",
       "      <th>PULocationID_95</th>\n",
       "      <th>PULocationID_96</th>\n",
       "      <th>PULocationID_97</th>\n",
       "      <th>PULocationID_98</th>\n",
       "      <th>duration</th>\n",
       "    </tr>\n",
       "  </thead>\n",
       "  <tbody>\n",
       "    <tr>\n",
       "      <th>0</th>\n",
       "      <td>0.0</td>\n",
       "      <td>0.0</td>\n",
       "      <td>0.0</td>\n",
       "      <td>0.0</td>\n",
       "      <td>0.0</td>\n",
       "      <td>0.0</td>\n",
       "      <td>0.0</td>\n",
       "      <td>0.0</td>\n",
       "      <td>0.0</td>\n",
       "      <td>0.0</td>\n",
       "      <td>...</td>\n",
       "      <td>0.0</td>\n",
       "      <td>0.0</td>\n",
       "      <td>0.0</td>\n",
       "      <td>0.0</td>\n",
       "      <td>0.0</td>\n",
       "      <td>0.0</td>\n",
       "      <td>0.0</td>\n",
       "      <td>0.0</td>\n",
       "      <td>0.0</td>\n",
       "      <td>17.816667</td>\n",
       "    </tr>\n",
       "    <tr>\n",
       "      <th>1</th>\n",
       "      <td>0.0</td>\n",
       "      <td>0.0</td>\n",
       "      <td>0.0</td>\n",
       "      <td>0.0</td>\n",
       "      <td>0.0</td>\n",
       "      <td>0.0</td>\n",
       "      <td>0.0</td>\n",
       "      <td>0.0</td>\n",
       "      <td>0.0</td>\n",
       "      <td>0.0</td>\n",
       "      <td>...</td>\n",
       "      <td>0.0</td>\n",
       "      <td>0.0</td>\n",
       "      <td>0.0</td>\n",
       "      <td>0.0</td>\n",
       "      <td>0.0</td>\n",
       "      <td>0.0</td>\n",
       "      <td>0.0</td>\n",
       "      <td>0.0</td>\n",
       "      <td>0.0</td>\n",
       "      <td>8.400000</td>\n",
       "    </tr>\n",
       "    <tr>\n",
       "      <th>2</th>\n",
       "      <td>0.0</td>\n",
       "      <td>0.0</td>\n",
       "      <td>0.0</td>\n",
       "      <td>0.0</td>\n",
       "      <td>0.0</td>\n",
       "      <td>0.0</td>\n",
       "      <td>0.0</td>\n",
       "      <td>0.0</td>\n",
       "      <td>0.0</td>\n",
       "      <td>0.0</td>\n",
       "      <td>...</td>\n",
       "      <td>0.0</td>\n",
       "      <td>0.0</td>\n",
       "      <td>0.0</td>\n",
       "      <td>0.0</td>\n",
       "      <td>0.0</td>\n",
       "      <td>0.0</td>\n",
       "      <td>0.0</td>\n",
       "      <td>0.0</td>\n",
       "      <td>0.0</td>\n",
       "      <td>8.966667</td>\n",
       "    </tr>\n",
       "    <tr>\n",
       "      <th>3</th>\n",
       "      <td>0.0</td>\n",
       "      <td>0.0</td>\n",
       "      <td>0.0</td>\n",
       "      <td>0.0</td>\n",
       "      <td>0.0</td>\n",
       "      <td>0.0</td>\n",
       "      <td>0.0</td>\n",
       "      <td>0.0</td>\n",
       "      <td>0.0</td>\n",
       "      <td>0.0</td>\n",
       "      <td>...</td>\n",
       "      <td>0.0</td>\n",
       "      <td>0.0</td>\n",
       "      <td>0.0</td>\n",
       "      <td>0.0</td>\n",
       "      <td>0.0</td>\n",
       "      <td>0.0</td>\n",
       "      <td>0.0</td>\n",
       "      <td>0.0</td>\n",
       "      <td>0.0</td>\n",
       "      <td>10.033333</td>\n",
       "    </tr>\n",
       "    <tr>\n",
       "      <th>4</th>\n",
       "      <td>0.0</td>\n",
       "      <td>0.0</td>\n",
       "      <td>0.0</td>\n",
       "      <td>0.0</td>\n",
       "      <td>0.0</td>\n",
       "      <td>0.0</td>\n",
       "      <td>0.0</td>\n",
       "      <td>0.0</td>\n",
       "      <td>0.0</td>\n",
       "      <td>0.0</td>\n",
       "      <td>...</td>\n",
       "      <td>0.0</td>\n",
       "      <td>0.0</td>\n",
       "      <td>0.0</td>\n",
       "      <td>0.0</td>\n",
       "      <td>0.0</td>\n",
       "      <td>0.0</td>\n",
       "      <td>0.0</td>\n",
       "      <td>0.0</td>\n",
       "      <td>0.0</td>\n",
       "      <td>37.533333</td>\n",
       "    </tr>\n",
       "  </tbody>\n",
       "</table>\n",
       "<p>5 rows × 516 columns</p>\n",
       "</div>"
      ],
      "text/plain": [
       "   DOLocationID_1  DOLocationID_10  DOLocationID_100  DOLocationID_101  \\\n",
       "0             0.0              0.0               0.0               0.0   \n",
       "1             0.0              0.0               0.0               0.0   \n",
       "2             0.0              0.0               0.0               0.0   \n",
       "3             0.0              0.0               0.0               0.0   \n",
       "4             0.0              0.0               0.0               0.0   \n",
       "\n",
       "   DOLocationID_102  DOLocationID_105  DOLocationID_106  DOLocationID_107  \\\n",
       "0               0.0               0.0               0.0               0.0   \n",
       "1               0.0               0.0               0.0               0.0   \n",
       "2               0.0               0.0               0.0               0.0   \n",
       "3               0.0               0.0               0.0               0.0   \n",
       "4               0.0               0.0               0.0               0.0   \n",
       "\n",
       "   DOLocationID_108  DOLocationID_109  ...  PULocationID_90  PULocationID_91  \\\n",
       "0               0.0               0.0  ...              0.0              0.0   \n",
       "1               0.0               0.0  ...              0.0              0.0   \n",
       "2               0.0               0.0  ...              0.0              0.0   \n",
       "3               0.0               0.0  ...              0.0              0.0   \n",
       "4               0.0               0.0  ...              0.0              0.0   \n",
       "\n",
       "   PULocationID_92  PULocationID_93  PULocationID_94  PULocationID_95  \\\n",
       "0              0.0              0.0              0.0              0.0   \n",
       "1              0.0              0.0              0.0              0.0   \n",
       "2              0.0              0.0              0.0              0.0   \n",
       "3              0.0              0.0              0.0              0.0   \n",
       "4              0.0              0.0              0.0              0.0   \n",
       "\n",
       "   PULocationID_96  PULocationID_97  PULocationID_98   duration  \n",
       "0              0.0              0.0              0.0  17.816667  \n",
       "1              0.0              0.0              0.0   8.400000  \n",
       "2              0.0              0.0              0.0   8.966667  \n",
       "3              0.0              0.0              0.0  10.033333  \n",
       "4              0.0              0.0              0.0  37.533333  \n",
       "\n",
       "[5 rows x 516 columns]"
      ]
     },
     "execution_count": 21,
     "metadata": {},
     "output_type": "execute_result"
    }
   ],
   "source": [
    "r3.head()"
   ]
  },
  {
   "cell_type": "markdown",
   "id": "10031ff5-7f4d-4325-b1ae-6357b31ed93e",
   "metadata": {},
   "source": [
    "Using `OneHotEncoder` is the best solution."
   ]
  },
  {
   "cell_type": "markdown",
   "id": "0dd4be48-74ef-42a1-943e-af365650bc6e",
   "metadata": {},
   "source": [
    "### Sparse Solution"
   ]
  },
  {
   "cell_type": "code",
   "execution_count": 22,
   "id": "7b4d23ce-2e1c-4c5e-adcf-cba87a38dd5f",
   "metadata": {},
   "outputs": [],
   "source": [
    "import scipy\n",
    "import scipy.sparse as sp"
   ]
  },
  {
   "cell_type": "code",
   "execution_count": 23,
   "id": "208e1613-cf2d-45dd-81d4-22eb91b4f892",
   "metadata": {},
   "outputs": [],
   "source": [
    "def ohe_cat_features_sparse(df):\n",
    "    return sp.hstack([\n",
    "        sp.csr_matrix(df.drop(columns=cat_features).values),\n",
    "        pd.get_dummies(df[cat_features], columns=cat_features, sparse=True).sparse.to_coo(),\n",
    "    ], format='csr')"
   ]
  },
  {
   "cell_type": "code",
   "execution_count": 24,
   "id": "8b8c18f4-0c42-44d9-9755-bb88461c796f",
   "metadata": {},
   "outputs": [
    {
     "name": "stdout",
     "output_type": "stream",
     "text": [
      "CPU times: user 2.32 s, sys: 338 ms, total: 2.66 s\n",
      "Wall time: 2.76 s\n"
     ]
    },
    {
     "data": {
      "text/plain": [
       "(2421441, 516)"
      ]
     },
     "execution_count": 24,
     "metadata": {},
     "output_type": "execute_result"
    }
   ],
   "source": [
    "%%time\n",
    "\n",
    "r1 = ohe_cat_features_sparse(df_train[cat_features + ['duration']])\n",
    "r1.shape"
   ]
  },
  {
   "cell_type": "code",
   "execution_count": 25,
   "id": "8319fcf8-6a0e-46fb-92c0-dbaa9f0cd71b",
   "metadata": {},
   "outputs": [],
   "source": [
    "def ohe_cat_features_sparse(df, vec=None):\n",
    "    if vec is None:\n",
    "        vec = OneHotEncoder(sparse=True, dtype='int8')\n",
    "    \n",
    "        df = sp.hstack([\n",
    "            sp.csr_matrix(df.drop(columns=cat_features).values),\n",
    "            vec.fit_transform(df[cat_features]),\n",
    "        ], format='csr')\n",
    "    else:\n",
    "        df = sp.hstack([\n",
    "            sp.csr_matrix(df.drop(columns=cat_features).values),\n",
    "            vec.transform(df[cat_features]),\n",
    "        ], format='csr')\n",
    "\n",
    "    return df, vec"
   ]
  },
  {
   "cell_type": "code",
   "execution_count": 26,
   "id": "0b037b55-4bdb-4a43-9669-724f77ff72b8",
   "metadata": {},
   "outputs": [
    {
     "name": "stdout",
     "output_type": "stream",
     "text": [
      "CPU times: user 857 ms, sys: 101 ms, total: 958 ms\n",
      "Wall time: 976 ms\n"
     ]
    },
    {
     "data": {
      "text/plain": [
       "(2421441, 516)"
      ]
     },
     "execution_count": 26,
     "metadata": {},
     "output_type": "execute_result"
    }
   ],
   "source": [
    "%%time\n",
    "\n",
    "r2, _ = ohe_cat_features_sparse(df_train[cat_features + ['duration']])\n",
    "r2.shape"
   ]
  },
  {
   "cell_type": "code",
   "execution_count": 27,
   "id": "cddfac80-ea11-439c-a381-fc7d7b37e7d1",
   "metadata": {},
   "outputs": [],
   "source": [
    "def ohe_cat_features_sparse(df, vec=None):\n",
    "    for col in cat_features:\n",
    "        df[col] = df[col].map(str)\n",
    "    \n",
    "    if vec is None:\n",
    "        vec = DictVectorizer(sparse=True)\n",
    "        df = vec.fit_transform(df.to_dict(orient='records'))\n",
    "    else:\n",
    "        df = vec.transform(df.to_dict(orient='records'))\n",
    "\n",
    "    return df, vec"
   ]
  },
  {
   "cell_type": "code",
   "execution_count": 28,
   "id": "d2f31dfd-cb8a-4b86-b4e6-8a8c7fc8e4ab",
   "metadata": {},
   "outputs": [
    {
     "name": "stderr",
     "output_type": "stream",
     "text": [
      "/var/folders/kb/40bs5mxn3yz55kv3_1ppflwr0000gn/T/ipykernel_27946/2509363539.py:3: SettingWithCopyWarning: \n",
      "A value is trying to be set on a copy of a slice from a DataFrame.\n",
      "Try using .loc[row_indexer,col_indexer] = value instead\n",
      "\n",
      "See the caveats in the documentation: https://pandas.pydata.org/pandas-docs/stable/user_guide/indexing.html#returning-a-view-versus-a-copy\n",
      "  df[col] = df[col].map(str)\n",
      "/var/folders/kb/40bs5mxn3yz55kv3_1ppflwr0000gn/T/ipykernel_27946/2509363539.py:3: SettingWithCopyWarning: \n",
      "A value is trying to be set on a copy of a slice from a DataFrame.\n",
      "Try using .loc[row_indexer,col_indexer] = value instead\n",
      "\n",
      "See the caveats in the documentation: https://pandas.pydata.org/pandas-docs/stable/user_guide/indexing.html#returning-a-view-versus-a-copy\n",
      "  df[col] = df[col].map(str)\n"
     ]
    },
    {
     "name": "stdout",
     "output_type": "stream",
     "text": [
      "CPU times: user 13 s, sys: 920 ms, total: 13.9 s\n",
      "Wall time: 14.2 s\n"
     ]
    },
    {
     "data": {
      "text/plain": [
       "(2421441, 516)"
      ]
     },
     "execution_count": 28,
     "metadata": {},
     "output_type": "execute_result"
    }
   ],
   "source": [
    "%%time\n",
    "\n",
    "r3, _ = ohe_cat_features_sparse(df_train[cat_features + ['duration']])\n",
    "r3.shape"
   ]
  },
  {
   "cell_type": "markdown",
   "id": "04c360d7-6a97-4433-925a-ff8a6e45e271",
   "metadata": {},
   "source": [
    "`OneHotEncoder` is the winner here too."
   ]
  },
  {
   "cell_type": "markdown",
   "id": "f972f4db-e761-45ab-ae4e-107af824eae2",
   "metadata": {},
   "source": [
    "## Question 5"
   ]
  },
  {
   "cell_type": "code",
   "execution_count": 29,
   "id": "8536b9b1-b7e4-4246-89b0-e4da8e9fc1dd",
   "metadata": {},
   "outputs": [],
   "source": [
    "def ohe_cat_features_sparse(df, vec=None):\n",
    "    if vec is None:\n",
    "        vec = OneHotEncoder(sparse=True, handle_unknown='ignore', dtype='int8')\n",
    "    \n",
    "        df = sp.hstack([\n",
    "            sp.csr_matrix(df.drop(columns=cat_features).values),\n",
    "            vec.fit_transform(df[cat_features]),\n",
    "        ], format='csr')\n",
    "    else:\n",
    "        df = sp.hstack([\n",
    "            sp.csr_matrix(df.drop(columns=cat_features).values),\n",
    "            vec.transform(df[cat_features]),\n",
    "        ], format='csr')\n",
    "\n",
    "    return df, vec"
   ]
  },
  {
   "cell_type": "code",
   "execution_count": 30,
   "id": "a6463df1-e5e0-466b-ad87-c527ed41a3dc",
   "metadata": {},
   "outputs": [],
   "source": [
    "X_train, vec = ohe_cat_features_sparse(df_train[cat_features])\n",
    "y_train = df_train['duration']"
   ]
  },
  {
   "cell_type": "code",
   "execution_count": 31,
   "id": "72bc52d0-431c-4e14-9000-5227487c5083",
   "metadata": {},
   "outputs": [],
   "source": [
    "from sklearn.linear_model import LinearRegression\n",
    "from sklearn.metrics import mean_squared_error"
   ]
  },
  {
   "cell_type": "code",
   "execution_count": 32,
   "id": "a099c82f-9849-4258-9ee4-4a8930099baf",
   "metadata": {},
   "outputs": [
    {
     "name": "stdout",
     "output_type": "stream",
     "text": [
      "CPU times: user 1min 9s, sys: 14.3 s, total: 1min 23s\n",
      "Wall time: 21.6 s\n"
     ]
    }
   ],
   "source": [
    "%%time\n",
    "\n",
    "model = LinearRegression()\n",
    "model = model.fit(X_train, y_train)"
   ]
  },
  {
   "cell_type": "code",
   "execution_count": 33,
   "id": "19552ba1-69a5-48cc-a620-1660457bf45f",
   "metadata": {},
   "outputs": [
    {
     "data": {
      "text/plain": [
       "6.986191909616623"
      ]
     },
     "execution_count": 33,
     "metadata": {},
     "output_type": "execute_result"
    }
   ],
   "source": [
    "mean_squared_error(y_train, model.predict(X_train), squared=False)"
   ]
  },
  {
   "cell_type": "markdown",
   "id": "9ee6a12b-5f55-46c3-b504-633077ef02b9",
   "metadata": {},
   "source": [
    "### Question 6"
   ]
  },
  {
   "cell_type": "code",
   "execution_count": 34,
   "id": "67d7011d-7ef7-4bee-8ff6-0172be9c2b73",
   "metadata": {},
   "outputs": [],
   "source": [
    "X_valid, vec = ohe_cat_features_sparse(df_valid[cat_features], vec=vec)\n",
    "y_valid = df_valid['duration']"
   ]
  },
  {
   "cell_type": "code",
   "execution_count": 35,
   "id": "8b9cb424-a8a0-4971-9bee-cc2efb1acc0f",
   "metadata": {},
   "outputs": [
    {
     "data": {
      "text/plain": [
       "7.786424875685275"
      ]
     },
     "execution_count": 35,
     "metadata": {},
     "output_type": "execute_result"
    }
   ],
   "source": [
    "mean_squared_error(y_valid, model.predict(X_valid), squared=False)"
   ]
  },
  {
   "cell_type": "code",
   "execution_count": null,
   "id": "132d5f96-3d2e-4a5e-825d-6c2926d6c57e",
   "metadata": {},
   "outputs": [],
   "source": []
  }
 ],
 "metadata": {
  "kernelspec": {
   "display_name": "Python 3 (ipykernel)",
   "language": "python",
   "name": "python3"
  },
  "language_info": {
   "codemirror_mode": {
    "name": "ipython",
    "version": 3
   },
   "file_extension": ".py",
   "mimetype": "text/x-python",
   "name": "python",
   "nbconvert_exporter": "python",
   "pygments_lexer": "ipython3",
   "version": "3.8.13"
  }
 },
 "nbformat": 4,
 "nbformat_minor": 5
}
